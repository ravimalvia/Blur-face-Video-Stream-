{
 "cells": [
  {
   "cell_type": "markdown",
   "id": "651f0a05",
   "metadata": {},
   "source": [
    "# Using MTCNN\n"
   ]
  },
  {
   "cell_type": "code",
   "execution_count": 6,
   "id": "74da2aaa",
   "metadata": {},
   "outputs": [],
   "source": [
    "#Using MTCNN\n",
    "import cv2\n",
    "from mtcnn.mtcnn import MTCNN\n",
    "\n",
    "# Capture the Default Camera and instantiation MTCNN\n",
    "Cap=cv2.VideoCapture(0)\n",
    "detector = MTCNN()\n",
    "\n",
    "#for Text Properties\n",
    "font=cv2.FONT_HERSHEY_SIMPLEX\n",
    "font_scale=1\n",
    "thinkness=2\n",
    "color1= ( 255, 255, 255) #White Color\n",
    "color2= (0, 0 , 255) #Red Color\n",
    "\n",
    "#LOOP \n",
    "while True:\n",
    "    ret, Image =Cap.read()\n",
    "    face=detector.detect_faces(Image) #Face Detection \n",
    "    if face == []:\n",
    "        text=\"No Face is detected\"\n",
    "        cv2.putText(Image, text, (0, 50) ,font, font_scale, color1 , thinkness )\n",
    "        cv2.imshow(\"Live Image\", Image)\n",
    "        if cv2.waitKey(1)  == 27:\n",
    "            break\n",
    "    else: \n",
    "        text=\"Face detected\"\n",
    "        cv2.putText(Image, text, (0, 50) ,font, font_scale, color2, thinkness )\n",
    "        x_cor= face[0]['box'][0]\n",
    "        y_cor= face[0]['box'][1]\n",
    "        w= face[0]['box'][2]\n",
    "        h= face[0]['box'][3]\n",
    "        x1_cor=x_cor+w\n",
    "        y1_cor=y_cor+h\n",
    "        start_point=(x_cor,y_cor)\n",
    "        end_point=(x1_cor,y1_cor)\n",
    "        cv2.rectangle(Image, start_point, end_point ,(255,0, 0))\n",
    "        face_cut=Image[y_cor:y1_cor, x_cor:x1_cor]\n",
    "        blur_face=cv2.blur(face_cut, ksize=(50,50)) #Blurr Only face , Ksize= Kernel Size \n",
    "        Image[y_cor:y1_cor, x_cor:x1_cor]=blur_face # Replace the Face with blurred Face\n",
    "        cv2.imshow(\"Live Image\", Image)\n",
    "        if cv2.waitKey(1) == 27:\n",
    "            break\n",
    "            \n",
    "cv2.destroyAllWindows()\n",
    "Cap.release()\n"
   ]
  },
  {
   "cell_type": "code",
   "execution_count": null,
   "id": "3aa0003c",
   "metadata": {},
   "outputs": [],
   "source": []
  }
 ],
 "metadata": {
  "kernelspec": {
   "display_name": "Python 3 (ipykernel)",
   "language": "python",
   "name": "python3"
  },
  "language_info": {
   "codemirror_mode": {
    "name": "ipython",
    "version": 3
   },
   "file_extension": ".py",
   "mimetype": "text/x-python",
   "name": "python",
   "nbconvert_exporter": "python",
   "pygments_lexer": "ipython3",
   "version": "3.9.7"
  }
 },
 "nbformat": 4,
 "nbformat_minor": 5
}
